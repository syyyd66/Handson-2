{
 "cells": [
  {
   "cell_type": "code",
   "execution_count": 11,
   "id": "e658913c-9766-4a08-84a1-a88672e007a0",
   "metadata": {},
   "outputs": [
    {
     "name": "stdin",
     "output_type": "stream",
     "text": [
      "Enter your grade 55\n"
     ]
    },
    {
     "name": "stdout",
     "output_type": "stream",
     "text": [
      "Your grade is a F\n"
     ]
    },
    {
     "name": "stdin",
     "output_type": "stream",
     "text": [
      "Would you like to continue? (Y/N) Y\n",
      "Enter your grade 60\n"
     ]
    },
    {
     "name": "stdout",
     "output_type": "stream",
     "text": [
      "Your grade is a D\n"
     ]
    },
    {
     "name": "stdin",
     "output_type": "stream",
     "text": [
      "Would you like to continue? (Y/N) N\n"
     ]
    },
    {
     "name": "stdout",
     "output_type": "stream",
     "text": [
      "Goodbye!\n"
     ]
    }
   ],
   "source": [
    "grade= float(input(\"Enter your grade\"))\n",
    "cont= \"Y\";\n",
    "while (cont==\"Y\"):\n",
    "    if (grade>=88):\n",
    "        print(\"Your grade is an A\")\n",
    "        cont= input(\"Would you like to continue? (Y/N)\")\n",
    "        if (cont !=\"Y\"):\n",
    "            print(\"Goodbye!\")\n",
    "            break;\n",
    "        else:\n",
    "           grade= float(input(\"Enter your grade\")) \n",
    "    elif (grade<88) and (grade>=80):\n",
    "        print(\"Your grade is a B\") \n",
    "        cont= input(\"Would you like to continue? (Y/N)\")\n",
    "        if (cont !=\"Y\"):\n",
    "            print(\"Goodbye!\")\n",
    "            break;\n",
    "        else:\n",
    "           grade= float(input(\"Enter your grade\")) \n",
    "    elif (grade<80) and (grade>=67):\n",
    "        print(\"Your grade is a C\") \n",
    "        cont= input(\"Would you like to continue? (Y/N)\")\n",
    "        if (cont !=\"Y\"):\n",
    "            print(\"Goodbye!\")\n",
    "            break;\n",
    "        else:\n",
    "           grade= float(input(\"Enter your grade\")) \n",
    "    elif (grade<67) and (grade>=60):\n",
    "        print(\"Your grade is a D\") \n",
    "        cont= input(\"Would you like to continue? (Y/N)\")\n",
    "        if (cont !=\"Y\"):\n",
    "            print(\"Goodbye!\")\n",
    "            break;\n",
    "        else:\n",
    "           grade= float(input(\"Enter your grade\")) \n",
    "    else:\n",
    "        print(\"Your grade is a F\") \n",
    "        cont= input(\"Would you like to continue? (Y/N)\")\n",
    "        if (cont !=\"Y\"):\n",
    "            print(\"Goodbye!\")\n",
    "            break;\n",
    "        else:\n",
    "           grade= float(input(\"Enter your grade\")) "
   ]
  },
  {
   "cell_type": "code",
   "execution_count": 30,
   "id": "f25ff842-5b19-45f7-a01b-f17675f1936f",
   "metadata": {},
   "outputs": [
    {
     "name": "stdin",
     "output_type": "stream",
     "text": [
      "Enter the cost of your meal:  52.31\n"
     ]
    },
    {
     "name": "stdout",
     "output_type": "stream",
     "text": [
      "For 15 %, your total cost is total: 60.16\n",
      "For 20 %, your total cost is total: 62.77\n",
      "For 25 %, your total cost is total: 65.39\n"
     ]
    }
   ],
   "source": [
    "cost = float(input(\"Enter the cost of your meal: \"))\n",
    "\n",
    "tips = [0.15, 0.2, 0.25]\n",
    "for tip in tips:\n",
    "    total = (cost * tip) + cost\n",
    "    print(\"For\", int(tip * 100), \"%, your total cost is total:\", round((cost*tip) + cost, 2)) "
   ]
  },
  {
   "cell_type": "code",
   "execution_count": 40,
   "id": "682b5e5f-fbba-439a-af52-d495e2ec5e55",
   "metadata": {},
   "outputs": [
    {
     "name": "stdin",
     "output_type": "stream",
     "text": [
      "Start number:  80\n",
      "Stop number:  90\n"
     ]
    },
    {
     "name": "stdout",
     "output_type": "stream",
     "text": [
      "Number:    Square:     Cube:\n",
      "80         6400       512000\n",
      "81         6561       531441\n",
      "82         6724       551368\n",
      "83         6889       571787\n",
      "84         7056       592704\n",
      "85         7225       614125\n",
      "86         7396       636056\n",
      "87         7569       658503\n",
      "88         7744       681472\n",
      "89         7921       704969\n",
      "90         8100       729000\n"
     ]
    }
   ],
   "source": [
    "start = int(input(\"Start number: \"))\n",
    "stop = int(input(\"Stop number: \"))\n",
    "print (\"Number:    Square:     Cube:\")\n",
    "for number in range(start, stop + 1):\n",
    "        square = number ** 2\n",
    "        cube = number ** 3\n",
    "        print(number, \"       \", square, \"     \", cube)"
   ]
  },
  {
   "cell_type": "code",
   "execution_count": null,
   "id": "078049f9-dda6-4d6f-8fd8-028a32bdb1bb",
   "metadata": {},
   "outputs": [
    {
     "name": "stdin",
     "output_type": "stream",
     "text": [
      "Enter the number of cents 88\n"
     ]
    },
    {
     "name": "stdout",
     "output_type": "stream",
     "text": [
      "Quarters:  3.0 Dimes:  1.0 Nickels: 0.0 Pennies: 3.0\n",
      "Do you want to continue? (Y/N)\n"
     ]
    },
    {
     "name": "stdin",
     "output_type": "stream",
     "text": [
      "Enter the number of cents 8\n"
     ]
    },
    {
     "name": "stdout",
     "output_type": "stream",
     "text": [
      "Quarters:  0.0 Dimes:  0.0 Nickels: 1.0 Pennies: 3.0\n",
      "Do you want to continue? (Y/N)\n"
     ]
    }
   ],
   "source": []
  },
  {
   "cell_type": "code",
   "execution_count": 25,
   "id": "3a3d60bf-8c06-432c-8c21-8bc35464f809",
   "metadata": {},
   "outputs": [
    {
     "name": "stdin",
     "output_type": "stream",
     "text": [
      "Enter the number of cents 88\n"
     ]
    },
    {
     "name": "stdout",
     "output_type": "stream",
     "text": [
      "Quarters: 3 Dimes: 1 Nickels: 0 Pennies: 3\n"
     ]
    },
    {
     "name": "stdin",
     "output_type": "stream",
     "text": [
      "Do you want to continue? (Y/N) Y\n",
      "Enter the number of cents 90\n"
     ]
    },
    {
     "name": "stdout",
     "output_type": "stream",
     "text": [
      "Quarters: 3.0 Dimes: 1.0 Nickels: 1.0 Pennies: 0.0\n"
     ]
    },
    {
     "name": "stdin",
     "output_type": "stream",
     "text": [
      "Do you want to continue? (Y/N) N\n"
     ]
    },
    {
     "name": "stdout",
     "output_type": "stream",
     "text": [
      "Goodbye!\n"
     ]
    }
   ],
   "source": [
    "cents= int(input(\"Enter the number of cents\"))\n",
    "cont= \"Y\";\n",
    "while (cont==\"Y\"):\n",
    "    quarters = cents // 25 \n",
    "    cents %= 25\n",
    "    dimes = cents // 10\n",
    "    cents %= 10 \n",
    "    nickels = cents // 5 \n",
    "    cents %= 5\n",
    "    pennies = cents\n",
    "    print(\"Quarters:\", quarters, \"Dimes:\", dimes, \"Nickels:\", nickels,  \"Pennies:\" , pennies)\n",
    "    cont= input(\"Do you want to continue? (Y/N)\")\n",
    "    if (cont !=\"Y\"):\n",
    "        print(\"Goodbye!\")\n",
    "        break\n",
    "    else:\n",
    "        cents= float(input(\"Enter the number of cents\")) "
   ]
  },
  {
   "cell_type": "code",
   "execution_count": null,
   "id": "2ff09911-69be-400d-9b88-a675f58bbbdc",
   "metadata": {},
   "outputs": [],
   "source": []
  }
 ],
 "metadata": {
  "kernelspec": {
   "display_name": "Python 3 (ipykernel)",
   "language": "python",
   "name": "python3"
  },
  "language_info": {
   "codemirror_mode": {
    "name": "ipython",
    "version": 3
   },
   "file_extension": ".py",
   "mimetype": "text/x-python",
   "name": "python",
   "nbconvert_exporter": "python",
   "pygments_lexer": "ipython3",
   "version": "3.11.7"
  }
 },
 "nbformat": 4,
 "nbformat_minor": 5
}
